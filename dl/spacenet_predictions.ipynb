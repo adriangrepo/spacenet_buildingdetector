{
 "cells": [
  {
   "cell_type": "markdown",
   "metadata": {},
   "source": [
    "## Spacenet\n",
    "\n",
    "https://medium.com/the-downlinq/establishing-a-machine-learning-workflow-530628cfe67\n",
    "\n",
    "https://medium.com/the-downlinq/object-detection-on-spacenet-5e691961d257\n",
    "\n",
    "https://medium.com/the-downlinq/the-spacenet-metric-612183cc2ddb\n",
    "\n",
    "https://medium.com/the-downlinq/a-baseline-model-for-the-spacenet-4-off-nadir-building-detection-challenge-6b7983312b4b\n",
    "\n",
    "https://medium.com/the-downlinq\n"
   ]
  },
  {
   "cell_type": "code",
   "execution_count": 35,
   "metadata": {},
   "outputs": [],
   "source": [
    "%reload_ext autoreload\n",
    "%autoreload 2\n",
    "%matplotlib inline"
   ]
  },
  {
   "cell_type": "code",
   "execution_count": 36,
   "metadata": {},
   "outputs": [],
   "source": [
    "import datetime\n",
    "import uuid\n",
    "import glob"
   ]
  },
  {
   "cell_type": "code",
   "execution_count": 37,
   "metadata": {},
   "outputs": [],
   "source": [
    "from fastai import *\n",
    "from fastai.vision import *\n",
    "from fastai.callbacks.hooks import *\n"
   ]
  },
  {
   "cell_type": "code",
   "execution_count": 38,
   "metadata": {},
   "outputs": [],
   "source": [
    "import PIL.Image as pil_image"
   ]
  },
  {
   "cell_type": "code",
   "execution_count": 39,
   "metadata": {},
   "outputs": [
    {
     "name": "stdout",
     "output_type": "stream",
     "text": [
      "1.0.35.dev0\n"
     ]
    }
   ],
   "source": [
    "import fastai\n",
    "print(fastai.__version__)"
   ]
  },
  {
   "cell_type": "code",
   "execution_count": 40,
   "metadata": {},
   "outputs": [],
   "source": [
    "torch.cuda.set_device(0)"
   ]
  },
  {
   "cell_type": "code",
   "execution_count": 41,
   "metadata": {},
   "outputs": [
    {
     "name": "stdout",
     "output_type": "stream",
     "text": [
      "DATE: 20181204\n"
     ]
    }
   ],
   "source": [
    "DATE = datetime.datetime.today().strftime('%Y%m%d')\n",
    "#DATE='20181204'\n",
    "print(f'DATE: {DATE}') "
   ]
  },
  {
   "cell_type": "code",
   "execution_count": 42,
   "metadata": {},
   "outputs": [
    {
     "name": "stdout",
     "output_type": "stream",
     "text": [
      "UID: 3d4a81ea\n"
     ]
    }
   ],
   "source": [
    "UID=str(uuid.uuid4())[:8]\n",
    "#UID='3d4a81ea'\n",
    "print(f'UID: {UID}') "
   ]
  },
  {
   "cell_type": "code",
   "execution_count": 43,
   "metadata": {},
   "outputs": [],
   "source": [
    "ARCH = models.resnet34\n",
    "ARCH_NAME = 'rn34'\n",
    "MODEL_NAME = 'unet'"
   ]
  },
  {
   "cell_type": "code",
   "execution_count": 44,
   "metadata": {},
   "outputs": [],
   "source": [
    "SUB_NUM='1'"
   ]
  },
  {
   "cell_type": "code",
   "execution_count": 45,
   "metadata": {},
   "outputs": [
    {
     "data": {
      "text/plain": [
       "[PosixPath('../../data/SpaceNet_Off-Nadir_Dataset/SpaceNet-Off-Nadir_Test'),\n",
       " PosixPath('../../data/SpaceNet_Off-Nadir_Dataset/SpaceNet-Off-Nadir_Train'),\n",
       " PosixPath('../../data/SpaceNet_Off-Nadir_Dataset/test_data'),\n",
       " PosixPath('../../data/SpaceNet_Off-Nadir_Dataset/resized_train'),\n",
       " PosixPath('../../data/SpaceNet_Off-Nadir_Dataset/masks'),\n",
       " PosixPath('../../data/SpaceNet_Off-Nadir_Dataset/SpaceNet-Off-Nadir_Sample'),\n",
       " PosixPath('../../data/SpaceNet_Off-Nadir_Dataset/resized_masks'),\n",
       " PosixPath('../../data/SpaceNet_Off-Nadir_Dataset/band-triplets.txt'),\n",
       " PosixPath('../../data/SpaceNet_Off-Nadir_Dataset/SpaceNet-Off-Nadir_Sample.tar.gz'),\n",
       " PosixPath('../../data/SpaceNet_Off-Nadir_Dataset/test_rgb'),\n",
       " PosixPath('../../data/SpaceNet_Off-Nadir_Dataset/train_rgb'),\n",
       " PosixPath('../../data/SpaceNet_Off-Nadir_Dataset/resized_test'),\n",
       " PosixPath('../../data/SpaceNet_Off-Nadir_Dataset/rgb_train')]"
      ]
     },
     "execution_count": 45,
     "metadata": {},
     "output_type": "execute_result"
    }
   ],
   "source": [
    "path = Path('../../data/SpaceNet_Off-Nadir_Dataset')\n",
    "path.ls()"
   ]
  },
  {
   "cell_type": "code",
   "execution_count": 46,
   "metadata": {},
   "outputs": [],
   "source": [
    "path_img = path/'resized_train'\n",
    "path_lbl = path/'resized_masks'\n",
    "path_test = path/'resized_test'"
   ]
  },
  {
   "cell_type": "code",
   "execution_count": 47,
   "metadata": {},
   "outputs": [
    {
     "data": {
      "text/plain": [
       "([PosixPath('../../data/SpaceNet_Off-Nadir_Dataset/resized_train/Pan-Sharpen_Atlanta_nadir52_catid_1030010003BDDC00_735851_3734589.png'),\n",
       "  PosixPath('../../data/SpaceNet_Off-Nadir_Dataset/resized_train/Pan-Sharpen_Atlanta_nadir16_catid_1030010002649200_741251_3733689.png'),\n",
       "  PosixPath('../../data/SpaceNet_Off-Nadir_Dataset/resized_train/Pan-Sharpen_Atlanta_nadir23_catid_103001000352C200_734051_3743589.png')],\n",
       " [PosixPath('../../data/SpaceNet_Off-Nadir_Dataset/resized_masks/mask_737651_3725589.png'),\n",
       "  PosixPath('../../data/SpaceNet_Off-Nadir_Dataset/resized_masks/mask_737651_3729639.png'),\n",
       "  PosixPath('../../data/SpaceNet_Off-Nadir_Dataset/resized_masks/mask_743501_3725139.png')])"
      ]
     },
     "execution_count": 47,
     "metadata": {},
     "output_type": "execute_result"
    }
   ],
   "source": [
    "fnames = get_image_files(path_img)\n",
    "lbl_names = get_image_files(path_lbl)\n",
    "test_fnames = get_image_files(path_test)\n",
    "fnames[:3], lbl_names[:3] "
   ]
  },
  {
   "cell_type": "code",
   "execution_count": 48,
   "metadata": {},
   "outputs": [
    {
     "data": {
      "text/plain": [
       "(28728, 1064, 927)"
      ]
     },
     "execution_count": 48,
     "metadata": {},
     "output_type": "execute_result"
    }
   ],
   "source": [
    "len(fnames), len(lbl_names), len(test_fnames)"
   ]
  },
  {
   "cell_type": "code",
   "execution_count": 49,
   "metadata": {},
   "outputs": [],
   "source": [
    "#only 1064 masks and images - but multiple nadirs"
   ]
  },
  {
   "cell_type": "code",
   "execution_count": 50,
   "metadata": {},
   "outputs": [],
   "source": [
    "image_ids =[]\n",
    "image_names=[]\n",
    "channel_types=[]\n",
    "nadir_angles=[]\n",
    "mask_names=[]\n",
    "nadir_types=[]\n",
    "for n in fnames:\n",
    "    parts = str(n).split('_')\n",
    "    im_id = '_'.join(parts[-2:])\n",
    "    image_ids.append(im_id)\n",
    "    indici = [i for i, s in enumerate(parts) if 'nadir' in s]\n",
    "    indici=indici[0]\n",
    "    \n",
    "    nadir_angle = parts[indici].split('nadir')[1]\n",
    "    nadir_angles.append(nadir_angle)\n",
    "    if int(nadir_angle) < 26:\n",
    "        angle_set = 'nadir'\n",
    "    elif int(nadir_angle) > 25 and int(nadir_angle) < 40:\n",
    "        angle_set = 'offnadir'\n",
    "    elif int(nadir_angle) > 40:\n",
    "        angle_set = 'faroffnadir'\n",
    "    nadir_types.append(angle_set)\n",
    "    \n",
    "    fname_part = str(n).split('/')[-1]\n",
    "    image_names.append(fname_part)\n",
    "    \n",
    "    channel_type = str(fname_part).split('Atlanta')[0][:-1]\n",
    "    channel_types.append(channel_type)\n",
    "    \n",
    "    mask_name = 'mask_'+im_id\n",
    "    mask_names.append(mask_name)"
   ]
  },
  {
   "cell_type": "code",
   "execution_count": 51,
   "metadata": {},
   "outputs": [
    {
     "data": {
      "text/plain": [
       "1064"
      ]
     },
     "execution_count": 51,
     "metadata": {},
     "output_type": "execute_result"
    }
   ],
   "source": [
    "len(list(set(image_ids)))"
   ]
  },
  {
   "cell_type": "code",
   "execution_count": 52,
   "metadata": {},
   "outputs": [],
   "source": [
    "train_df = pd.DataFrame(\n",
    "    {'image_name': image_names,\n",
    "     'channel_type': channel_types,\n",
    "     'nadir_angle': nadir_angles,\n",
    "     'nadir_type': nadir_types,\n",
    "     'mask_name': mask_names\n",
    "    })"
   ]
  },
  {
   "cell_type": "code",
   "execution_count": 53,
   "metadata": {},
   "outputs": [
    {
     "data": {
      "text/html": [
       "<div>\n",
       "<style scoped>\n",
       "    .dataframe tbody tr th:only-of-type {\n",
       "        vertical-align: middle;\n",
       "    }\n",
       "\n",
       "    .dataframe tbody tr th {\n",
       "        vertical-align: top;\n",
       "    }\n",
       "\n",
       "    .dataframe thead th {\n",
       "        text-align: right;\n",
       "    }\n",
       "</style>\n",
       "<table border=\"1\" class=\"dataframe\">\n",
       "  <thead>\n",
       "    <tr style=\"text-align: right;\">\n",
       "      <th></th>\n",
       "      <th>image_name</th>\n",
       "      <th>channel_type</th>\n",
       "      <th>nadir_angle</th>\n",
       "      <th>nadir_type</th>\n",
       "      <th>mask_name</th>\n",
       "    </tr>\n",
       "  </thead>\n",
       "  <tbody>\n",
       "    <tr>\n",
       "      <th>0</th>\n",
       "      <td>Pan-Sharpen_Atlanta_nadir52_catid_1030010003BD...</td>\n",
       "      <td>Pan-Sharpen</td>\n",
       "      <td>52</td>\n",
       "      <td>faroffnadir</td>\n",
       "      <td>mask_735851_3734589.png</td>\n",
       "    </tr>\n",
       "    <tr>\n",
       "      <th>1</th>\n",
       "      <td>Pan-Sharpen_Atlanta_nadir16_catid_103001000264...</td>\n",
       "      <td>Pan-Sharpen</td>\n",
       "      <td>16</td>\n",
       "      <td>nadir</td>\n",
       "      <td>mask_741251_3733689.png</td>\n",
       "    </tr>\n",
       "    <tr>\n",
       "      <th>2</th>\n",
       "      <td>Pan-Sharpen_Atlanta_nadir23_catid_103001000352...</td>\n",
       "      <td>Pan-Sharpen</td>\n",
       "      <td>23</td>\n",
       "      <td>nadir</td>\n",
       "      <td>mask_734051_3743589.png</td>\n",
       "    </tr>\n",
       "    <tr>\n",
       "      <th>3</th>\n",
       "      <td>Pan-Sharpen_Atlanta_nadir42_catid_10300100035D...</td>\n",
       "      <td>Pan-Sharpen</td>\n",
       "      <td>42</td>\n",
       "      <td>faroffnadir</td>\n",
       "      <td>mask_744851_3726489.png</td>\n",
       "    </tr>\n",
       "    <tr>\n",
       "      <th>4</th>\n",
       "      <td>Pan-Sharpen_Atlanta_nadir21_catid_103001000312...</td>\n",
       "      <td>Pan-Sharpen</td>\n",
       "      <td>21</td>\n",
       "      <td>nadir</td>\n",
       "      <td>mask_747101_3740889.png</td>\n",
       "    </tr>\n",
       "  </tbody>\n",
       "</table>\n",
       "</div>"
      ],
      "text/plain": [
       "                                          image_name channel_type nadir_angle  \\\n",
       "0  Pan-Sharpen_Atlanta_nadir52_catid_1030010003BD...  Pan-Sharpen          52   \n",
       "1  Pan-Sharpen_Atlanta_nadir16_catid_103001000264...  Pan-Sharpen          16   \n",
       "2  Pan-Sharpen_Atlanta_nadir23_catid_103001000352...  Pan-Sharpen          23   \n",
       "3  Pan-Sharpen_Atlanta_nadir42_catid_10300100035D...  Pan-Sharpen          42   \n",
       "4  Pan-Sharpen_Atlanta_nadir21_catid_103001000312...  Pan-Sharpen          21   \n",
       "\n",
       "    nadir_type                mask_name  \n",
       "0  faroffnadir  mask_735851_3734589.png  \n",
       "1        nadir  mask_741251_3733689.png  \n",
       "2        nadir  mask_734051_3743589.png  \n",
       "3  faroffnadir  mask_744851_3726489.png  \n",
       "4        nadir  mask_747101_3740889.png  "
      ]
     },
     "execution_count": 53,
     "metadata": {},
     "output_type": "execute_result"
    }
   ],
   "source": [
    "train_df.head()\n"
   ]
  },
  {
   "cell_type": "code",
   "execution_count": 54,
   "metadata": {},
   "outputs": [
    {
     "data": {
      "text/plain": [
       "array(['Pan-Sharpen'], dtype=object)"
      ]
     },
     "execution_count": 54,
     "metadata": {},
     "output_type": "execute_result"
    }
   ],
   "source": [
    "train_df['channel_type'].unique()"
   ]
  },
  {
   "cell_type": "code",
   "execution_count": 55,
   "metadata": {
    "scrolled": true
   },
   "outputs": [
    {
     "data": {
      "text/plain": [
       "array(['52', '16', '23', '42', '21', '10', '44', '53', '13', '19', '7', '47', '50', '14', '49', '36', '25', '27', '39',\n",
       "       '34', '32', '30', '29', '46', '8'], dtype=object)"
      ]
     },
     "execution_count": 55,
     "metadata": {},
     "output_type": "execute_result"
    }
   ],
   "source": [
    "train_df['nadir_angle'].unique()"
   ]
  },
  {
   "cell_type": "code",
   "execution_count": 56,
   "metadata": {},
   "outputs": [],
   "source": [
    "#### resample example"
   ]
  },
  {
   "cell_type": "code",
   "execution_count": 57,
   "metadata": {
    "scrolled": true
   },
   "outputs": [],
   "source": [
    "def show_resized():\n",
    "    img_f = train_df['image_name'][0]\n",
    "    mask_n = train_df['mask_name'][0]\n",
    "    img = open_image(RESIZED_TRAIN/f'{img_f}')\n",
    "    mask = open_mask(RESIZED_MASKS/f'{mask_n}', div=True)\n",
    "\n",
    "    fig,ax = plt.subplots(1,1, figsize=(10,10))\n",
    "    img.show(ax=ax)\n",
    "    mask.show(ax=ax, alpha=0.5)"
   ]
  },
  {
   "cell_type": "code",
   "execution_count": 58,
   "metadata": {},
   "outputs": [],
   "source": [
    "#### original"
   ]
  },
  {
   "cell_type": "code",
   "execution_count": 59,
   "metadata": {},
   "outputs": [],
   "source": [
    "def show_original():\n",
    "    img_f = train_df['image_name'][0]\n",
    "    mask_n = train_df['mask_name'][0]\n",
    "    img_f=img_f.split('.png')[0]\n",
    "    img_f=img_f+'.tif'\n",
    "    mask_n=mask_n.split('.png')[0]\n",
    "    mask_n=mask_n+'.tif'\n",
    "    img = open_image(path_img/f'{img_f}')\n",
    "    mask = open_mask(path_lbl/f'{mask_n}', div=True)\n",
    "    \n",
    "    src_size = np.array(mask.shape[1:])\n",
    "    print(src_size)\n",
    "    print(mask.data)\n",
    "\n",
    "    fig,ax = plt.subplots(1,1, figsize=(10,10))\n",
    "    img.show(ax=ax)\n",
    "    mask.show(ax=ax, alpha=0.5)"
   ]
  },
  {
   "cell_type": "code",
   "execution_count": 60,
   "metadata": {},
   "outputs": [],
   "source": [
    "mask_n = train_df['mask_name'][0]\n",
    "mask = open_mask(path_lbl/f'{mask_n}', div=True)\n",
    "src_size = np.array(mask.shape[1:])"
   ]
  },
  {
   "cell_type": "markdown",
   "metadata": {},
   "source": [
    "## Preds"
   ]
  },
  {
   "cell_type": "markdown",
   "metadata": {},
   "source": [
    "https://spacenetchallenge.github.io/datasets/spacenet-OffNadir-summary.html\n",
    "\n",
    "In the SpaceNet Off-Nadir Building Extraction Challenge, the metric for ranking entries is the SpaceNet Metric.\n",
    "This metric is an F1-Score based on the intersection over union of two building footprints with a threshold of 0.5\n",
    "\n",
    "F1-Score is calculated by taking the total True Positives, False Positives, and False Negatives for each nadir segement and then averaging the F1-Score for each segement.\n",
    "\n",
    "F1-Score Total = mean(F1-Score-Nadir, F1-Score-Off-Nadir, F1-Score-Very-Off-Nadir)"
   ]
  },
  {
   "cell_type": "markdown",
   "metadata": {},
   "source": [
    "Your output must be a CSV file with almost identical format to the building footprint definition files.\n",
    "\n",
    "ImageId,BuildingId,PolygonWKT_Pix,Confidence\n",
    "\n",
    "Your output file may or may not include the above header line. The rest of the lines should specify the buildings your algorithm extracted, one per line.\n",
    "\n",
    "The required fields are:\n",
    "\n",
    "ImageId is a string that uniquely identifies the image.\n",
    "BuildingId is an integer that identifies a building in the image, it should be unique within an image and must be positive unless the special id of -1 is used. -1 must be used to signal that there are no buildings in the image.\n",
    "PolygonWKT_Pix specifies the points of the shape that represents the building you found. The format is exactly the same as given above in the Input files section. Important to know that the coordinates must be given in the scale of the 3-band images. So if you find a building that has a corner at (40, 20) on the 3-band image and (10, 5) on the corresponding 8-band image then your output file should have a (40 20 0) coordinate triplet listed in the shape definition.\n",
    "Confidence is a positive real number, higher numbers mean you are more confident that this building is indeed present. See the details of scoring for how this value is used.\n",
    "Your output must be a single file with .csv extension. Optionally the file may be zipped, in which case it must have .zip extension. The file must not be larger than 150MB and must not contain more than 2 million lines.\n",
    "\n",
    "Your algorithm must process the image tiles of the test set one by one, that is when you are predicting building footprints you must not use information from other tiles of the test set.\n"
   ]
  },
  {
   "cell_type": "code",
   "execution_count": null,
   "metadata": {},
   "outputs": [],
   "source": []
  },
  {
   "cell_type": "code",
   "execution_count": 73,
   "metadata": {},
   "outputs": [],
   "source": [
    "bs=4"
   ]
  },
  {
   "cell_type": "code",
   "execution_count": 66,
   "metadata": {},
   "outputs": [],
   "source": [
    "def get_y_fn(full_name):\n",
    "    parts = str(full_name).split('_')\n",
    "    im_id = '_'.join(parts[-2:])\n",
    "    mask_name = 'mask_'+im_id\n",
    "    return path_lbl/f'{mask_name}'"
   ]
  },
  {
   "cell_type": "code",
   "execution_count": 67,
   "metadata": {},
   "outputs": [],
   "source": [
    "codes = np.array(['nadir','offnadir','faroffnadir'])"
   ]
  },
  {
   "cell_type": "code",
   "execution_count": 68,
   "metadata": {},
   "outputs": [],
   "source": [
    "holdout_grids = ['735851','747551','741251','746201']\n",
    "valid_idx = [i for i,o in enumerate(fnames) if any(c in str(o) for c in holdout_grids)]"
   ]
  },
  {
   "cell_type": "code",
   "execution_count": 88,
   "metadata": {},
   "outputs": [],
   "source": [
    "#here we default tpo using codes instad of None for classes - otherwise too much work overriding methods\n",
    "#when do load_enpty()\n",
    "class SegmentationLabelList(ImageItemList):\n",
    "    def __init__(self, items:Iterator, classes:Collection=codes, **kwargs):\n",
    "        super().__init__(items, **kwargs)\n",
    "        self.classes,self.loss_func = classes,CrossEntropyFlat()\n",
    "        self.c = len(self.classes)\n",
    "\n",
    "    def new(self, items, classes=None, **kwargs):\n",
    "        return self.__class__(items, ifnone(classes, self.classes), **kwargs)\n",
    "\n",
    "    def open(self, fn): return open_mask(fn, div=True)\n",
    "    \n",
    "class SegmentationItemList(ImageItemList): _label_cls = SegmentationLabelList"
   ]
  },
  {
   "cell_type": "code",
   "execution_count": 89,
   "metadata": {},
   "outputs": [],
   "source": [
    "#recreate data via method when training\n",
    "src = (SegmentationItemList.from_folder(path_img)\n",
    "        .split_by_idx(valid_idx)\n",
    "        .label_from_func(get_y_fn, classes=codes))"
   ]
  },
  {
   "cell_type": "code",
   "execution_count": 90,
   "metadata": {},
   "outputs": [
    {
     "name": "stdout",
     "output_type": "stream",
     "text": [
      "<class 'fastai.data_block.LabelLists'>\n"
     ]
    }
   ],
   "source": [
    "print(type(src))"
   ]
  },
  {
   "cell_type": "code",
   "execution_count": 91,
   "metadata": {},
   "outputs": [
    {
     "name": "stdout",
     "output_type": "stream",
     "text": [
      "['nadir' 'offnadir' 'faroffnadir']\n"
     ]
    }
   ],
   "source": [
    "print(src.classes)"
   ]
  },
  {
   "cell_type": "code",
   "execution_count": 92,
   "metadata": {},
   "outputs": [],
   "source": [
    "tfms = get_transforms(flip_vert=True, max_warp=0, max_zoom=1.2, max_lighting=0.3)\n",
    "data = (src.transform(tfms, size=src_size, tfm_y=True)\n",
    "        .databunch(bs=bs)\n",
    "        .normalize(imagenet_stats))"
   ]
  },
  {
   "cell_type": "code",
   "execution_count": 93,
   "metadata": {},
   "outputs": [
    {
     "name": "stdout",
     "output_type": "stream",
     "text": [
      "['nadir' 'offnadir' 'faroffnadir']\n"
     ]
    }
   ],
   "source": [
    "print(data.classes)"
   ]
  },
  {
   "cell_type": "code",
   "execution_count": 94,
   "metadata": {},
   "outputs": [],
   "source": [
    "tfms = get_transforms(flip_vert=True, max_warp=0, max_zoom=1.2, max_lighting=0.3)"
   ]
  },
  {
   "cell_type": "code",
   "execution_count": 95,
   "metadata": {},
   "outputs": [],
   "source": [
    "# DataBunch.load_empty(path) (where path points to where export.pkl file is)\n",
    "export_path = path_img"
   ]
  },
  {
   "cell_type": "code",
   "execution_count": 96,
   "metadata": {},
   "outputs": [
    {
     "name": "stdout",
     "output_type": "stream",
     "text": [
      "../../data/SpaceNet_Off-Nadir_Dataset/resized_train\n"
     ]
    }
   ],
   "source": [
    "print(export_path)"
   ]
  },
  {
   "cell_type": "code",
   "execution_count": 97,
   "metadata": {},
   "outputs": [],
   "source": [
    "#DataBunch.load_empty = _databunch_load_empty"
   ]
  },
  {
   "cell_type": "code",
   "execution_count": 98,
   "metadata": {},
   "outputs": [
    {
     "name": "stdout",
     "output_type": "stream",
     "text": [
      "<class 'fastai.vision.data.ImageDataBunch'>\n"
     ]
    }
   ],
   "source": [
    "print(type(data))\n",
    "#<class 'fastai.vision.data.ImageDataBunch'>"
   ]
  },
  {
   "cell_type": "code",
   "execution_count": 99,
   "metadata": {},
   "outputs": [],
   "source": [
    "#data at this point:\n",
    "#ImageDataBunch(DataBunch)\n",
    "#    train_dl\n",
    "#        dl\n",
    "#            dataset\n",
    "#                c\n",
    "#    valid_dl\n",
    "#        dl\n",
    "#            dataset\n",
    "#                c"
   ]
  },
  {
   "cell_type": "code",
   "execution_count": 100,
   "metadata": {},
   "outputs": [],
   "source": [
    "#ImageDataBunch(DataBunch)\n",
    "#                  Databunch.load_empty()\n",
    "#                                 @classmethod\n",
    "#                                 def _databunch_load_empty(cls, path, fname:str='export.pkl', tfms:TfmList=None, tfm_y:bool=False, **kwargs):\n",
    "#                                      \"Load an empty `DataBunch` from the exported file in `path/fname` with optional `tfms`.\"\n",
    "#                                     ds = LabelList(Dataset).load_empty(path/fname, tfms=(None if tfms is None else tfms[1]), tfm_y=tfm_y, **kwargs)\n",
    "#                                     return cls.create(ds,ds,path=path)\n"
   ]
  },
  {
   "cell_type": "code",
   "execution_count": 101,
   "metadata": {},
   "outputs": [],
   "source": [
    "#here we now reset to empty\n",
    "\n",
    "#LabelList(Dataset).load_empty"
   ]
  },
  {
   "cell_type": "code",
   "execution_count": 102,
   "metadata": {},
   "outputs": [
    {
     "name": "stdout",
     "output_type": "stream",
     "text": [
      "temp: <class 'type'>\n",
      "path: ../../../data/SpaceNet_Off-Nadir_Dataset/resized_train\n",
      "processor: []\n",
      "y: SegmentationLabelList (1 items)\n",
      "[]...\n",
      "Path: ../../../data/SpaceNet_Off-Nadir_Dataset/resized_train\n"
     ]
    }
   ],
   "source": [
    "empty_data = data.load_empty(export_path, tfms=tfms, tfm_y=True, size=src_size).normalize(imagenet_stats)\n"
   ]
  },
  {
   "cell_type": "code",
   "execution_count": 103,
   "metadata": {},
   "outputs": [],
   "source": [
    "iou = partial(dice, iou=True)\n",
    "metrics = [iou, dice]"
   ]
  },
  {
   "cell_type": "code",
   "execution_count": 104,
   "metadata": {},
   "outputs": [],
   "source": [
    "#LabelList(Dataset)\n",
    "#    @property\n",
    "#    c()\n",
    "#\n",
    "#    @classmethod\n",
    "#    def load_empty(cls, fn:PathOrStr, tfms:TfmList=None, tfm_y:bool=False, **kwargs):"
   ]
  },
  {
   "cell_type": "code",
   "execution_count": 105,
   "metadata": {},
   "outputs": [],
   "source": [
    "#train data\n",
    "\n",
    "#here data==ImageDataBunch->DataLoader\n",
    "#SegmentationItemList(ImageItemList)\n",
    "#    _label_cls = SegmentationLabelList\n",
    "#                       SegmentationLabelList(ImageItemList)\n",
    "#                                                  ImageItemList(ItemList)\n",
    "#                                                      _bunch=ImageDataBunch\n",
    "#                                                                ImageDataBunch(DataBunch)\n",
    "#                                                                                 train_dl {DeviceDataLoader} \n",
    "#                                                                                               dl {DataLoader}\n",
    "#                                                                                                      dataset {LabelList(Dataset)}\n",
    "#                                                                                                                           y {SegmentationLabelList}\n",
    "#                                                                                                                           @property\n",
    "#                                                                                                                           c"
   ]
  },
  {
   "cell_type": "code",
   "execution_count": 106,
   "metadata": {},
   "outputs": [],
   "source": [
    "#empty_data\n",
    "\n",
    "\n",
    "#here data==ImageDataBunch->DataLoader\n",
    "\n",
    "#ImageDataBunch(DataBunch)\n",
    "#                 train_dl {DeviceDataLoader} \n",
    "#                               dl {DataLoader}\n",
    "#                                       dataset {LabelList(Dataset)}\n",
    "#                                                             y {SegmentationLabelList(ImageItemList)}\n",
    "#\n",
    "#                                                             @property"
   ]
  },
  {
   "cell_type": "code",
   "execution_count": 107,
   "metadata": {},
   "outputs": [
    {
     "name": "stdout",
     "output_type": "stream",
     "text": [
      "--LabelList.c() type(y): <class '__main__.SegmentationLabelList'>\n",
      "--LabelList.c() c: 3\n"
     ]
    }
   ],
   "source": [
    "learn = unet_learner(empty_data, ARCH, metrics=metrics)"
   ]
  },
  {
   "cell_type": "code",
   "execution_count": 108,
   "metadata": {},
   "outputs": [
    {
     "data": {
      "text/plain": [
       "DynamicUnet(\n",
       "  (0): Sequential(\n",
       "    (0): Conv2d(3, 64, kernel_size=(7, 7), stride=(2, 2), padding=(3, 3), bias=False)\n",
       "    (1): BatchNorm2d(64, eps=1e-05, momentum=0.1, affine=True, track_running_stats=True)\n",
       "    (2): ReLU(inplace)\n",
       "    (3): MaxPool2d(kernel_size=3, stride=2, padding=1, dilation=1, ceil_mode=False)\n",
       "    (4): Sequential(\n",
       "      (0): BasicBlock(\n",
       "        (conv1): Conv2d(64, 64, kernel_size=(3, 3), stride=(1, 1), padding=(1, 1), bias=False)\n",
       "        (bn1): BatchNorm2d(64, eps=1e-05, momentum=0.1, affine=True, track_running_stats=True)\n",
       "        (relu): ReLU(inplace)\n",
       "        (conv2): Conv2d(64, 64, kernel_size=(3, 3), stride=(1, 1), padding=(1, 1), bias=False)\n",
       "        (bn2): BatchNorm2d(64, eps=1e-05, momentum=0.1, affine=True, track_running_stats=True)\n",
       "      )\n",
       "      (1): BasicBlock(\n",
       "        (conv1): Conv2d(64, 64, kernel_size=(3, 3), stride=(1, 1), padding=(1, 1), bias=False)\n",
       "        (bn1): BatchNorm2d(64, eps=1e-05, momentum=0.1, affine=True, track_running_stats=True)\n",
       "        (relu): ReLU(inplace)\n",
       "        (conv2): Conv2d(64, 64, kernel_size=(3, 3), stride=(1, 1), padding=(1, 1), bias=False)\n",
       "        (bn2): BatchNorm2d(64, eps=1e-05, momentum=0.1, affine=True, track_running_stats=True)\n",
       "      )\n",
       "      (2): BasicBlock(\n",
       "        (conv1): Conv2d(64, 64, kernel_size=(3, 3), stride=(1, 1), padding=(1, 1), bias=False)\n",
       "        (bn1): BatchNorm2d(64, eps=1e-05, momentum=0.1, affine=True, track_running_stats=True)\n",
       "        (relu): ReLU(inplace)\n",
       "        (conv2): Conv2d(64, 64, kernel_size=(3, 3), stride=(1, 1), padding=(1, 1), bias=False)\n",
       "        (bn2): BatchNorm2d(64, eps=1e-05, momentum=0.1, affine=True, track_running_stats=True)\n",
       "      )\n",
       "    )\n",
       "    (5): Sequential(\n",
       "      (0): BasicBlock(\n",
       "        (conv1): Conv2d(64, 128, kernel_size=(3, 3), stride=(2, 2), padding=(1, 1), bias=False)\n",
       "        (bn1): BatchNorm2d(128, eps=1e-05, momentum=0.1, affine=True, track_running_stats=True)\n",
       "        (relu): ReLU(inplace)\n",
       "        (conv2): Conv2d(128, 128, kernel_size=(3, 3), stride=(1, 1), padding=(1, 1), bias=False)\n",
       "        (bn2): BatchNorm2d(128, eps=1e-05, momentum=0.1, affine=True, track_running_stats=True)\n",
       "        (downsample): Sequential(\n",
       "          (0): Conv2d(64, 128, kernel_size=(1, 1), stride=(2, 2), bias=False)\n",
       "          (1): BatchNorm2d(128, eps=1e-05, momentum=0.1, affine=True, track_running_stats=True)\n",
       "        )\n",
       "      )\n",
       "      (1): BasicBlock(\n",
       "        (conv1): Conv2d(128, 128, kernel_size=(3, 3), stride=(1, 1), padding=(1, 1), bias=False)\n",
       "        (bn1): BatchNorm2d(128, eps=1e-05, momentum=0.1, affine=True, track_running_stats=True)\n",
       "        (relu): ReLU(inplace)\n",
       "        (conv2): Conv2d(128, 128, kernel_size=(3, 3), stride=(1, 1), padding=(1, 1), bias=False)\n",
       "        (bn2): BatchNorm2d(128, eps=1e-05, momentum=0.1, affine=True, track_running_stats=True)\n",
       "      )\n",
       "      (2): BasicBlock(\n",
       "        (conv1): Conv2d(128, 128, kernel_size=(3, 3), stride=(1, 1), padding=(1, 1), bias=False)\n",
       "        (bn1): BatchNorm2d(128, eps=1e-05, momentum=0.1, affine=True, track_running_stats=True)\n",
       "        (relu): ReLU(inplace)\n",
       "        (conv2): Conv2d(128, 128, kernel_size=(3, 3), stride=(1, 1), padding=(1, 1), bias=False)\n",
       "        (bn2): BatchNorm2d(128, eps=1e-05, momentum=0.1, affine=True, track_running_stats=True)\n",
       "      )\n",
       "      (3): BasicBlock(\n",
       "        (conv1): Conv2d(128, 128, kernel_size=(3, 3), stride=(1, 1), padding=(1, 1), bias=False)\n",
       "        (bn1): BatchNorm2d(128, eps=1e-05, momentum=0.1, affine=True, track_running_stats=True)\n",
       "        (relu): ReLU(inplace)\n",
       "        (conv2): Conv2d(128, 128, kernel_size=(3, 3), stride=(1, 1), padding=(1, 1), bias=False)\n",
       "        (bn2): BatchNorm2d(128, eps=1e-05, momentum=0.1, affine=True, track_running_stats=True)\n",
       "      )\n",
       "    )\n",
       "    (6): Sequential(\n",
       "      (0): BasicBlock(\n",
       "        (conv1): Conv2d(128, 256, kernel_size=(3, 3), stride=(2, 2), padding=(1, 1), bias=False)\n",
       "        (bn1): BatchNorm2d(256, eps=1e-05, momentum=0.1, affine=True, track_running_stats=True)\n",
       "        (relu): ReLU(inplace)\n",
       "        (conv2): Conv2d(256, 256, kernel_size=(3, 3), stride=(1, 1), padding=(1, 1), bias=False)\n",
       "        (bn2): BatchNorm2d(256, eps=1e-05, momentum=0.1, affine=True, track_running_stats=True)\n",
       "        (downsample): Sequential(\n",
       "          (0): Conv2d(128, 256, kernel_size=(1, 1), stride=(2, 2), bias=False)\n",
       "          (1): BatchNorm2d(256, eps=1e-05, momentum=0.1, affine=True, track_running_stats=True)\n",
       "        )\n",
       "      )\n",
       "      (1): BasicBlock(\n",
       "        (conv1): Conv2d(256, 256, kernel_size=(3, 3), stride=(1, 1), padding=(1, 1), bias=False)\n",
       "        (bn1): BatchNorm2d(256, eps=1e-05, momentum=0.1, affine=True, track_running_stats=True)\n",
       "        (relu): ReLU(inplace)\n",
       "        (conv2): Conv2d(256, 256, kernel_size=(3, 3), stride=(1, 1), padding=(1, 1), bias=False)\n",
       "        (bn2): BatchNorm2d(256, eps=1e-05, momentum=0.1, affine=True, track_running_stats=True)\n",
       "      )\n",
       "      (2): BasicBlock(\n",
       "        (conv1): Conv2d(256, 256, kernel_size=(3, 3), stride=(1, 1), padding=(1, 1), bias=False)\n",
       "        (bn1): BatchNorm2d(256, eps=1e-05, momentum=0.1, affine=True, track_running_stats=True)\n",
       "        (relu): ReLU(inplace)\n",
       "        (conv2): Conv2d(256, 256, kernel_size=(3, 3), stride=(1, 1), padding=(1, 1), bias=False)\n",
       "        (bn2): BatchNorm2d(256, eps=1e-05, momentum=0.1, affine=True, track_running_stats=True)\n",
       "      )\n",
       "      (3): BasicBlock(\n",
       "        (conv1): Conv2d(256, 256, kernel_size=(3, 3), stride=(1, 1), padding=(1, 1), bias=False)\n",
       "        (bn1): BatchNorm2d(256, eps=1e-05, momentum=0.1, affine=True, track_running_stats=True)\n",
       "        (relu): ReLU(inplace)\n",
       "        (conv2): Conv2d(256, 256, kernel_size=(3, 3), stride=(1, 1), padding=(1, 1), bias=False)\n",
       "        (bn2): BatchNorm2d(256, eps=1e-05, momentum=0.1, affine=True, track_running_stats=True)\n",
       "      )\n",
       "      (4): BasicBlock(\n",
       "        (conv1): Conv2d(256, 256, kernel_size=(3, 3), stride=(1, 1), padding=(1, 1), bias=False)\n",
       "        (bn1): BatchNorm2d(256, eps=1e-05, momentum=0.1, affine=True, track_running_stats=True)\n",
       "        (relu): ReLU(inplace)\n",
       "        (conv2): Conv2d(256, 256, kernel_size=(3, 3), stride=(1, 1), padding=(1, 1), bias=False)\n",
       "        (bn2): BatchNorm2d(256, eps=1e-05, momentum=0.1, affine=True, track_running_stats=True)\n",
       "      )\n",
       "      (5): BasicBlock(\n",
       "        (conv1): Conv2d(256, 256, kernel_size=(3, 3), stride=(1, 1), padding=(1, 1), bias=False)\n",
       "        (bn1): BatchNorm2d(256, eps=1e-05, momentum=0.1, affine=True, track_running_stats=True)\n",
       "        (relu): ReLU(inplace)\n",
       "        (conv2): Conv2d(256, 256, kernel_size=(3, 3), stride=(1, 1), padding=(1, 1), bias=False)\n",
       "        (bn2): BatchNorm2d(256, eps=1e-05, momentum=0.1, affine=True, track_running_stats=True)\n",
       "      )\n",
       "    )\n",
       "    (7): Sequential(\n",
       "      (0): BasicBlock(\n",
       "        (conv1): Conv2d(256, 512, kernel_size=(3, 3), stride=(2, 2), padding=(1, 1), bias=False)\n",
       "        (bn1): BatchNorm2d(512, eps=1e-05, momentum=0.1, affine=True, track_running_stats=True)\n",
       "        (relu): ReLU(inplace)\n",
       "        (conv2): Conv2d(512, 512, kernel_size=(3, 3), stride=(1, 1), padding=(1, 1), bias=False)\n",
       "        (bn2): BatchNorm2d(512, eps=1e-05, momentum=0.1, affine=True, track_running_stats=True)\n",
       "        (downsample): Sequential(\n",
       "          (0): Conv2d(256, 512, kernel_size=(1, 1), stride=(2, 2), bias=False)\n",
       "          (1): BatchNorm2d(512, eps=1e-05, momentum=0.1, affine=True, track_running_stats=True)\n",
       "        )\n",
       "      )\n",
       "      (1): BasicBlock(\n",
       "        (conv1): Conv2d(512, 512, kernel_size=(3, 3), stride=(1, 1), padding=(1, 1), bias=False)\n",
       "        (bn1): BatchNorm2d(512, eps=1e-05, momentum=0.1, affine=True, track_running_stats=True)\n",
       "        (relu): ReLU(inplace)\n",
       "        (conv2): Conv2d(512, 512, kernel_size=(3, 3), stride=(1, 1), padding=(1, 1), bias=False)\n",
       "        (bn2): BatchNorm2d(512, eps=1e-05, momentum=0.1, affine=True, track_running_stats=True)\n",
       "      )\n",
       "      (2): BasicBlock(\n",
       "        (conv1): Conv2d(512, 512, kernel_size=(3, 3), stride=(1, 1), padding=(1, 1), bias=False)\n",
       "        (bn1): BatchNorm2d(512, eps=1e-05, momentum=0.1, affine=True, track_running_stats=True)\n",
       "        (relu): ReLU(inplace)\n",
       "        (conv2): Conv2d(512, 512, kernel_size=(3, 3), stride=(1, 1), padding=(1, 1), bias=False)\n",
       "        (bn2): BatchNorm2d(512, eps=1e-05, momentum=0.1, affine=True, track_running_stats=True)\n",
       "      )\n",
       "    )\n",
       "  )\n",
       "  (1): BatchNorm2d(512, eps=1e-05, momentum=0.1, affine=True, track_running_stats=True)\n",
       "  (2): ReLU()\n",
       "  (3): Sequential(\n",
       "    (0): Sequential(\n",
       "      (0): Conv2d(512, 1024, kernel_size=(3, 3), stride=(1, 1), padding=(1, 1))\n",
       "      (1): ReLU(inplace)\n",
       "    )\n",
       "    (1): Sequential(\n",
       "      (0): Conv2d(1024, 512, kernel_size=(3, 3), stride=(1, 1), padding=(1, 1))\n",
       "      (1): ReLU(inplace)\n",
       "    )\n",
       "  )\n",
       "  (4): UnetBlock(\n",
       "    (shuf): PixelShuffle_ICNR(\n",
       "      (conv): Sequential(\n",
       "        (0): Conv2d(512, 1024, kernel_size=(1, 1), stride=(1, 1))\n",
       "      )\n",
       "      (shuf): PixelShuffle(upscale_factor=2)\n",
       "      (pad): ReplicationPad2d((1, 0, 1, 0))\n",
       "      (blur): AvgPool2d(kernel_size=2, stride=1, padding=0)\n",
       "      (relu): ReLU(inplace)\n",
       "    )\n",
       "    (bn): BatchNorm2d(256, eps=1e-05, momentum=0.1, affine=True, track_running_stats=True)\n",
       "    (conv1): Sequential(\n",
       "      (0): Conv2d(512, 512, kernel_size=(3, 3), stride=(1, 1), padding=(1, 1))\n",
       "      (1): ReLU(inplace)\n",
       "    )\n",
       "    (conv2): Sequential(\n",
       "      (0): Conv2d(512, 512, kernel_size=(3, 3), stride=(1, 1), padding=(1, 1))\n",
       "      (1): ReLU(inplace)\n",
       "    )\n",
       "    (relu): ReLU()\n",
       "  )\n",
       "  (5): UnetBlock(\n",
       "    (shuf): PixelShuffle_ICNR(\n",
       "      (conv): Sequential(\n",
       "        (0): Conv2d(512, 1024, kernel_size=(1, 1), stride=(1, 1))\n",
       "      )\n",
       "      (shuf): PixelShuffle(upscale_factor=2)\n",
       "      (pad): ReplicationPad2d((1, 0, 1, 0))\n",
       "      (blur): AvgPool2d(kernel_size=2, stride=1, padding=0)\n",
       "      (relu): ReLU(inplace)\n",
       "    )\n",
       "    (bn): BatchNorm2d(128, eps=1e-05, momentum=0.1, affine=True, track_running_stats=True)\n",
       "    (conv1): Sequential(\n",
       "      (0): Conv2d(384, 384, kernel_size=(3, 3), stride=(1, 1), padding=(1, 1))\n",
       "      (1): ReLU(inplace)\n",
       "    )\n",
       "    (conv2): Sequential(\n",
       "      (0): Conv2d(384, 384, kernel_size=(3, 3), stride=(1, 1), padding=(1, 1))\n",
       "      (1): ReLU(inplace)\n",
       "    )\n",
       "    (relu): ReLU()\n",
       "  )\n",
       "  (6): UnetBlock(\n",
       "    (shuf): PixelShuffle_ICNR(\n",
       "      (conv): Sequential(\n",
       "        (0): Conv2d(384, 768, kernel_size=(1, 1), stride=(1, 1))\n",
       "      )\n",
       "      (shuf): PixelShuffle(upscale_factor=2)\n",
       "      (pad): ReplicationPad2d((1, 0, 1, 0))\n",
       "      (blur): AvgPool2d(kernel_size=2, stride=1, padding=0)\n",
       "      (relu): ReLU(inplace)\n",
       "    )\n",
       "    (bn): BatchNorm2d(64, eps=1e-05, momentum=0.1, affine=True, track_running_stats=True)\n",
       "    (conv1): Sequential(\n",
       "      (0): Conv2d(256, 256, kernel_size=(3, 3), stride=(1, 1), padding=(1, 1))\n",
       "      (1): ReLU(inplace)\n",
       "    )\n",
       "    (conv2): Sequential(\n",
       "      (0): Conv2d(256, 256, kernel_size=(3, 3), stride=(1, 1), padding=(1, 1))\n",
       "      (1): ReLU(inplace)\n",
       "    )\n",
       "    (relu): ReLU()\n",
       "  )\n",
       "  (7): UnetBlock(\n",
       "    (shuf): PixelShuffle_ICNR(\n",
       "      (conv): Sequential(\n",
       "        (0): Conv2d(256, 512, kernel_size=(1, 1), stride=(1, 1))\n",
       "      )\n",
       "      (shuf): PixelShuffle(upscale_factor=2)\n",
       "      (pad): ReplicationPad2d((1, 0, 1, 0))\n",
       "      (blur): AvgPool2d(kernel_size=2, stride=1, padding=0)\n",
       "      (relu): ReLU(inplace)\n",
       "    )\n",
       "    (bn): BatchNorm2d(64, eps=1e-05, momentum=0.1, affine=True, track_running_stats=True)\n",
       "    (conv1): Sequential(\n",
       "      (0): Conv2d(192, 96, kernel_size=(3, 3), stride=(1, 1), padding=(1, 1))\n",
       "      (1): ReLU(inplace)\n",
       "    )\n",
       "    (conv2): Sequential(\n",
       "      (0): Conv2d(96, 96, kernel_size=(3, 3), stride=(1, 1), padding=(1, 1))\n",
       "      (1): ReLU(inplace)\n",
       "    )\n",
       "    (relu): ReLU()\n",
       "  )\n",
       "  (8): PixelShuffle_ICNR(\n",
       "    (conv): Sequential(\n",
       "      (0): Conv2d(96, 384, kernel_size=(1, 1), stride=(1, 1))\n",
       "    )\n",
       "    (shuf): PixelShuffle(upscale_factor=2)\n",
       "    (pad): ReplicationPad2d((1, 0, 1, 0))\n",
       "    (blur): AvgPool2d(kernel_size=2, stride=1, padding=0)\n",
       "    (relu): ReLU(inplace)\n",
       "  )\n",
       "  (9): Sequential(\n",
       "    (0): Conv2d(96, 3, kernel_size=(1, 1), stride=(1, 1), bias=False)\n",
       "    (1): BatchNorm2d(3, eps=1e-05, momentum=0.1, affine=True, track_running_stats=True)\n",
       "  )\n",
       ")"
      ]
     },
     "execution_count": 108,
     "metadata": {},
     "output_type": "execute_result"
    }
   ],
   "source": [
    "learn.load(f'{DATE}-{ARCH_NAME}-{MODEL_NAME}-stage2_2')\n",
    "learn.model.eval()"
   ]
  },
  {
   "cell_type": "code",
   "execution_count": 234,
   "metadata": {},
   "outputs": [],
   "source": [
    "preds = []\n",
    "pred_classes = []\n",
    "def pred_images(test_file_names):\n",
    "    #im_files = glob.glob(f\"{test_path}/*.png\")\n",
    "    i=0\n",
    "    for fname in test_file_names[:10]:\n",
    "        # load image and predict\n",
    "        img = open_image(fname)\n",
    "        #out, pred, res[0]\n",
    "        pred_class, pred_idx, output = learn.predict(img)\n",
    "        #output.show()\n",
    "        preds.append(list(to_np(output)))\n",
    "        pred_classes.append(pred_class)\n",
    "        output=to_np(output)\n",
    "        #output=np.swapaxes(output, 0,2)\n",
    "        #output=np.swapaxes(output, 0,1)\n",
    "        output=output.T\n",
    "        print(f'output.shape: {output.shape}')\n",
    "        \n",
    "        img = pil_image.open(fname)\n",
    "        #print(f'type(img): {type(img)}')\n",
    "        pixarr = np.array(img)\n",
    "        #pixarr = np.flip(pixarr, axis=1)\n",
    "        #print(f'type(pixarr): {type(pixarr)}')\n",
    "        #print(f'output: {output}')\n",
    "        print(f'pixarr.shape: {pixarr.shape}')\n",
    "        #print(f'pixarr: {pixarr}')\n",
    "        out_img=pil_image.fromarray(output, mode='F')\n",
    "        out_img.save(f'test_img_{i}.png')\n",
    "        pix_img=pil_image.fromarray(pixarr, mode='RGB')\n",
    "        pix_img.save(f'pix_img_{i}.png')\n",
    "        i+=1"
   ]
  },
  {
   "cell_type": "code",
   "execution_count": 235,
   "metadata": {},
   "outputs": [
    {
     "name": "stdout",
     "output_type": "stream",
     "text": [
      "output.shape: (450, 450, 3)\n",
      "pixarr.shape: (450, 450, 3)\n"
     ]
    },
    {
     "ename": "ValueError",
     "evalue": "Too many dimensions: 3 > 2.",
     "output_type": "error",
     "traceback": [
      "\u001b[0;31m---------------------------------------------------------------------------\u001b[0m",
      "\u001b[0;31mValueError\u001b[0m                                Traceback (most recent call last)",
      "\u001b[0;32m<ipython-input-235-3d32361265b3>\u001b[0m in \u001b[0;36m<module>\u001b[0;34m\u001b[0m\n\u001b[0;32m----> 1\u001b[0;31m \u001b[0mpred_images\u001b[0m\u001b[0;34m(\u001b[0m\u001b[0mtest_fnames\u001b[0m\u001b[0;34m)\u001b[0m\u001b[0;34m\u001b[0m\u001b[0m\n\u001b[0m",
      "\u001b[0;32m<ipython-input-234-ac0999b1bdd8>\u001b[0m in \u001b[0;36mpred_images\u001b[0;34m(test_file_names)\u001b[0m\n\u001b[1;32m     26\u001b[0m         \u001b[0mprint\u001b[0m\u001b[0;34m(\u001b[0m\u001b[0;34mf'pixarr.shape: {pixarr.shape}'\u001b[0m\u001b[0;34m)\u001b[0m\u001b[0;34m\u001b[0m\u001b[0m\n\u001b[1;32m     27\u001b[0m         \u001b[0;31m#print(f'pixarr: {pixarr}')\u001b[0m\u001b[0;34m\u001b[0m\u001b[0;34m\u001b[0m\u001b[0m\n\u001b[0;32m---> 28\u001b[0;31m         \u001b[0mout_img\u001b[0m\u001b[0;34m=\u001b[0m\u001b[0mpil_image\u001b[0m\u001b[0;34m.\u001b[0m\u001b[0mfromarray\u001b[0m\u001b[0;34m(\u001b[0m\u001b[0moutput\u001b[0m\u001b[0;34m,\u001b[0m \u001b[0mmode\u001b[0m\u001b[0;34m=\u001b[0m\u001b[0;34m'F'\u001b[0m\u001b[0;34m)\u001b[0m\u001b[0;34m\u001b[0m\u001b[0m\n\u001b[0m\u001b[1;32m     29\u001b[0m         \u001b[0mout_img\u001b[0m\u001b[0;34m.\u001b[0m\u001b[0msave\u001b[0m\u001b[0;34m(\u001b[0m\u001b[0;34mf'test_img_{i}.png'\u001b[0m\u001b[0;34m)\u001b[0m\u001b[0;34m\u001b[0m\u001b[0m\n\u001b[1;32m     30\u001b[0m         \u001b[0mpix_img\u001b[0m\u001b[0;34m=\u001b[0m\u001b[0mpil_image\u001b[0m\u001b[0;34m.\u001b[0m\u001b[0mfromarray\u001b[0m\u001b[0;34m(\u001b[0m\u001b[0mpixarr\u001b[0m\u001b[0;34m,\u001b[0m \u001b[0mmode\u001b[0m\u001b[0;34m=\u001b[0m\u001b[0;34m'RGB'\u001b[0m\u001b[0;34m)\u001b[0m\u001b[0;34m\u001b[0m\u001b[0m\n",
      "\u001b[0;32m~/miniconda3/envs/fastai-py3.7/lib/python3.7/site-packages/PIL/Image.py\u001b[0m in \u001b[0;36mfromarray\u001b[0;34m(obj, mode)\u001b[0m\n\u001b[1;32m   2500\u001b[0m         \u001b[0mndmax\u001b[0m \u001b[0;34m=\u001b[0m \u001b[0;36m4\u001b[0m\u001b[0;34m\u001b[0m\u001b[0m\n\u001b[1;32m   2501\u001b[0m     \u001b[0;32mif\u001b[0m \u001b[0mndim\u001b[0m \u001b[0;34m>\u001b[0m \u001b[0mndmax\u001b[0m\u001b[0;34m:\u001b[0m\u001b[0;34m\u001b[0m\u001b[0m\n\u001b[0;32m-> 2502\u001b[0;31m         \u001b[0;32mraise\u001b[0m \u001b[0mValueError\u001b[0m\u001b[0;34m(\u001b[0m\u001b[0;34m\"Too many dimensions: %d > %d.\"\u001b[0m \u001b[0;34m%\u001b[0m \u001b[0;34m(\u001b[0m\u001b[0mndim\u001b[0m\u001b[0;34m,\u001b[0m \u001b[0mndmax\u001b[0m\u001b[0;34m)\u001b[0m\u001b[0;34m)\u001b[0m\u001b[0;34m\u001b[0m\u001b[0m\n\u001b[0m\u001b[1;32m   2503\u001b[0m \u001b[0;34m\u001b[0m\u001b[0m\n\u001b[1;32m   2504\u001b[0m     \u001b[0msize\u001b[0m \u001b[0;34m=\u001b[0m \u001b[0mshape\u001b[0m\u001b[0;34m[\u001b[0m\u001b[0;36m1\u001b[0m\u001b[0;34m]\u001b[0m\u001b[0;34m,\u001b[0m \u001b[0mshape\u001b[0m\u001b[0;34m[\u001b[0m\u001b[0;36m0\u001b[0m\u001b[0;34m]\u001b[0m\u001b[0;34m\u001b[0m\u001b[0m\n",
      "\u001b[0;31mValueError\u001b[0m: Too many dimensions: 3 > 2."
     ]
    }
   ],
   "source": [
    "pred_images(test_fnames)"
   ]
  },
  {
   "cell_type": "code",
   "execution_count": 132,
   "metadata": {},
   "outputs": [
    {
     "data": {
      "text/plain": [
       "array([[[[0.  , 0.  , 0.  , 0.  , ..., 0.  , 0.  , 0.  , 0.  ],\n",
       "         [0.  , 0.  , 0.  , 0.  , ..., 0.  , 0.  , 0.  , 0.  ],\n",
       "         [0.  , 0.  , 0.  , 0.  , ..., 0.  , 0.  , 0.  , 0.  ],\n",
       "         [0.  , 0.  , 0.  , 0.  , ..., 0.  , 0.  , 0.  , 0.  ],\n",
       "         ...,\n",
       "         [0.06, 0.03, 0.  , 0.  , ..., 0.01, 0.31, 0.26, 0.28],\n",
       "         [0.09, 0.05, 0.01, 0.  , ..., 0.01, 0.18, 0.17, 0.2 ],\n",
       "         [0.01, 0.01, 0.  , 0.  , ..., 0.01, 0.04, 0.03, 0.03],\n",
       "         [0.  , 0.  , 0.  , 0.  , ..., 0.  , 0.  , 0.  , 0.  ]],\n",
       "\n",
       "        [[0.  , 0.  , 0.  , 0.  , ..., 0.  , 0.  , 0.  , 0.  ],\n",
       "         [0.  , 0.  , 0.  , 0.  , ..., 0.  , 0.  , 0.  , 0.  ],\n",
       "         [0.  , 0.  , 0.  , 0.  , ..., 0.  , 0.  , 0.  , 0.  ],\n",
       "         [0.  , 0.  , 0.  , 0.  , ..., 0.  , 0.  , 0.  , 0.  ],\n",
       "         ...,\n",
       "         [0.06, 0.04, 0.  , 0.  , ..., 0.  , 0.26, 0.27, 0.32],\n",
       "         [0.07, 0.04, 0.01, 0.  , ..., 0.01, 0.17, 0.22, 0.28],\n",
       "         [0.02, 0.02, 0.01, 0.  , ..., 0.01, 0.05, 0.06, 0.07],\n",
       "         [0.  , 0.  , 0.  , 0.  , ..., 0.  , 0.  , 0.  , 0.  ]],\n",
       "\n",
       "        [[0.  , 0.  , 0.  , 0.  , ..., 0.  , 0.  , 0.  , 0.  ],\n",
       "         [0.  , 0.  , 0.  , 0.  , ..., 0.  , 0.  , 0.  , 0.  ],\n",
       "         [0.  , 0.  , 0.  , 0.  , ..., 0.  , 0.  , 0.  , 0.  ],\n",
       "         [0.  , 0.  , 0.  , 0.  , ..., 0.  , 0.  , 0.  , 0.  ],\n",
       "         ...,\n",
       "         [0.05, 0.03, 0.01, 0.  , ..., 0.01, 0.23, 0.29, 0.29],\n",
       "         [0.07, 0.04, 0.01, 0.  , ..., 0.01, 0.12, 0.15, 0.15],\n",
       "         [0.01, 0.01, 0.  , 0.  , ..., 0.  , 0.02, 0.03, 0.02],\n",
       "         [0.  , 0.  , 0.  , 0.  , ..., 0.  , 0.  , 0.  , 0.  ]]],\n",
       "\n",
       "\n",
       "       [[[0.  , 0.  , 0.  , 0.  , ..., 0.  , 0.  , 0.  , 0.  ],\n",
       "         [0.  , 0.  , 0.  , 0.  , ..., 0.  , 0.  , 0.  , 0.  ],\n",
       "         [0.  , 0.  , 0.  , 0.  , ..., 0.  , 0.  , 0.  , 0.  ],\n",
       "         [0.01, 0.  , 0.  , 0.  , ..., 0.  , 0.  , 0.  , 0.  ],\n",
       "         ...,\n",
       "         [0.  , 0.  , 0.  , 0.  , ..., 0.  , 0.38, 0.3 , 0.32],\n",
       "         [0.  , 0.  , 0.  , 0.  , ..., 0.01, 0.34, 0.28, 0.31],\n",
       "         [0.  , 0.  , 0.  , 0.  , ..., 0.01, 0.13, 0.11, 0.12],\n",
       "         [0.  , 0.  , 0.  , 0.  , ..., 0.  , 0.  , 0.  , 0.  ]],\n",
       "\n",
       "        [[0.  , 0.  , 0.  , 0.  , ..., 0.  , 0.  , 0.  , 0.  ],\n",
       "         [0.  , 0.  , 0.  , 0.  , ..., 0.  , 0.  , 0.  , 0.  ],\n",
       "         [0.  , 0.  , 0.  , 0.  , ..., 0.  , 0.  , 0.  , 0.  ],\n",
       "         [0.06, 0.03, 0.01, 0.  , ..., 0.  , 0.  , 0.  , 0.  ],\n",
       "         ...,\n",
       "         [0.  , 0.  , 0.  , 0.  , ..., 0.  , 0.36, 0.32, 0.31],\n",
       "         [0.  , 0.  , 0.  , 0.  , ..., 0.01, 0.33, 0.32, 0.31],\n",
       "         [0.  , 0.  , 0.  , 0.  , ..., 0.02, 0.2 , 0.19, 0.19],\n",
       "         [0.  , 0.  , 0.  , 0.  , ..., 0.01, 0.01, 0.01, 0.01]],\n",
       "\n",
       "        [[0.  , 0.  , 0.  , 0.  , ..., 0.  , 0.  , 0.  , 0.  ],\n",
       "         [0.  , 0.  , 0.  , 0.  , ..., 0.  , 0.  , 0.  , 0.  ],\n",
       "         [0.  , 0.  , 0.  , 0.  , ..., 0.  , 0.  , 0.  , 0.  ],\n",
       "         [0.01, 0.01, 0.  , 0.  , ..., 0.  , 0.  , 0.  , 0.  ],\n",
       "         ...,\n",
       "         [0.  , 0.  , 0.  , 0.  , ..., 0.  , 0.26, 0.37, 0.35],\n",
       "         [0.  , 0.  , 0.  , 0.  , ..., 0.01, 0.23, 0.33, 0.3 ],\n",
       "         [0.  , 0.  , 0.  , 0.  , ..., 0.01, 0.08, 0.1 , 0.09],\n",
       "         [0.  , 0.  , 0.  , 0.  , ..., 0.  , 0.  , 0.  , 0.  ]]],\n",
       "\n",
       "\n",
       "       [[[0.  , 0.  , 0.  , 0.  , ..., 0.  , 0.  , 0.  , 0.  ],\n",
       "         [0.  , 0.  , 0.  , 0.  , ..., 0.  , 0.  , 0.  , 0.  ],\n",
       "         [0.  , 0.  , 0.  , 0.  , ..., 0.  , 0.  , 0.  , 0.  ],\n",
       "         [0.  , 0.  , 0.  , 0.  , ..., 0.  , 0.  , 0.  , 0.  ],\n",
       "         ...,\n",
       "         [0.22, 0.11, 0.  , 0.  , ..., 0.  , 0.2 , 0.2 , 0.23],\n",
       "         [0.21, 0.1 , 0.01, 0.  , ..., 0.01, 0.15, 0.15, 0.19],\n",
       "         [0.03, 0.02, 0.  , 0.  , ..., 0.01, 0.04, 0.04, 0.04],\n",
       "         [0.  , 0.  , 0.  , 0.  , ..., 0.  , 0.  , 0.  , 0.  ]],\n",
       "\n",
       "        [[0.  , 0.  , 0.  , 0.  , ..., 0.  , 0.  , 0.  , 0.  ],\n",
       "         [0.  , 0.  , 0.  , 0.  , ..., 0.  , 0.  , 0.  , 0.  ],\n",
       "         [0.  , 0.  , 0.  , 0.  , ..., 0.  , 0.  , 0.  , 0.  ],\n",
       "         [0.  , 0.  , 0.  , 0.  , ..., 0.  , 0.  , 0.  , 0.  ],\n",
       "         ...,\n",
       "         [0.18, 0.1 , 0.  , 0.  , ..., 0.  , 0.19, 0.22, 0.23],\n",
       "         [0.14, 0.08, 0.01, 0.  , ..., 0.01, 0.16, 0.2 , 0.22],\n",
       "         [0.05, 0.03, 0.01, 0.  , ..., 0.01, 0.08, 0.08, 0.08],\n",
       "         [0.  , 0.  , 0.  , 0.  , ..., 0.  , 0.  , 0.  , 0.  ]],\n",
       "\n",
       "        [[0.  , 0.  , 0.  , 0.  , ..., 0.  , 0.  , 0.  , 0.  ],\n",
       "         [0.  , 0.  , 0.  , 0.  , ..., 0.  , 0.  , 0.  , 0.  ],\n",
       "         [0.  , 0.  , 0.  , 0.  , ..., 0.  , 0.  , 0.  , 0.  ],\n",
       "         [0.  , 0.  , 0.  , 0.  , ..., 0.  , 0.  , 0.  , 0.  ],\n",
       "         ...,\n",
       "         [0.16, 0.09, 0.01, 0.  , ..., 0.01, 0.16, 0.23, 0.26],\n",
       "         [0.17, 0.08, 0.01, 0.  , ..., 0.01, 0.09, 0.14, 0.17],\n",
       "         [0.03, 0.02, 0.  , 0.  , ..., 0.  , 0.02, 0.03, 0.03],\n",
       "         [0.  , 0.  , 0.  , 0.  , ..., 0.  , 0.  , 0.  , 0.  ]]],\n",
       "\n",
       "\n",
       "       [[[0.  , 0.  , 0.  , 0.  , ..., 0.  , 0.  , 0.  , 0.  ],\n",
       "         [0.  , 0.  , 0.  , 0.  , ..., 0.  , 0.  , 0.  , 0.  ],\n",
       "         [0.  , 0.  , 0.  , 0.  , ..., 0.  , 0.  , 0.  , 0.  ],\n",
       "         [0.  , 0.  , 0.  , 0.  , ..., 0.  , 0.  , 0.01, 0.01],\n",
       "         ...,\n",
       "         [0.02, 0.01, 0.  , 0.  , ..., 0.  , 0.01, 0.02, 0.05],\n",
       "         [0.01, 0.01, 0.  , 0.  , ..., 0.  , 0.  , 0.  , 0.01],\n",
       "         [0.  , 0.  , 0.  , 0.  , ..., 0.  , 0.  , 0.  , 0.  ],\n",
       "         [0.  , 0.  , 0.  , 0.  , ..., 0.  , 0.  , 0.  , 0.  ]],\n",
       "\n",
       "        [[0.  , 0.  , 0.  , 0.  , ..., 0.  , 0.  , 0.  , 0.  ],\n",
       "         [0.  , 0.  , 0.  , 0.  , ..., 0.  , 0.  , 0.  , 0.  ],\n",
       "         [0.  , 0.  , 0.  , 0.  , ..., 0.  , 0.  , 0.  , 0.  ],\n",
       "         [0.  , 0.  , 0.  , 0.  , ..., 0.  , 0.01, 0.01, 0.02],\n",
       "         ...,\n",
       "         [0.01, 0.01, 0.  , 0.  , ..., 0.01, 0.02, 0.06, 0.17],\n",
       "         [0.01, 0.01, 0.  , 0.  , ..., 0.01, 0.01, 0.03, 0.07],\n",
       "         [0.  , 0.  , 0.  , 0.  , ..., 0.  , 0.  , 0.  , 0.01],\n",
       "         [0.  , 0.  , 0.  , 0.  , ..., 0.  , 0.  , 0.  , 0.  ]],\n",
       "\n",
       "        [[0.  , 0.  , 0.  , 0.  , ..., 0.  , 0.  , 0.  , 0.  ],\n",
       "         [0.  , 0.  , 0.  , 0.  , ..., 0.  , 0.  , 0.  , 0.  ],\n",
       "         [0.  , 0.  , 0.  , 0.  , ..., 0.  , 0.  , 0.  , 0.  ],\n",
       "         [0.  , 0.  , 0.  , 0.  , ..., 0.  , 0.01, 0.01, 0.01],\n",
       "         ...,\n",
       "         [0.03, 0.02, 0.  , 0.  , ..., 0.  , 0.01, 0.02, 0.04],\n",
       "         [0.02, 0.01, 0.  , 0.  , ..., 0.  , 0.  , 0.  , 0.01],\n",
       "         [0.  , 0.  , 0.  , 0.  , ..., 0.  , 0.  , 0.  , 0.  ],\n",
       "         [0.  , 0.  , 0.  , 0.  , ..., 0.  , 0.  , 0.  , 0.  ]]],\n",
       "\n",
       "\n",
       "       ...,\n",
       "\n",
       "\n",
       "       [[[0.  , 0.  , 0.  , 0.  , ..., 0.  , 0.  , 0.  , 0.  ],\n",
       "         [0.  , 0.  , 0.  , 0.  , ..., 0.  , 0.  , 0.  , 0.  ],\n",
       "         [0.  , 0.  , 0.  , 0.  , ..., 0.  , 0.  , 0.  , 0.  ],\n",
       "         [0.  , 0.  , 0.  , 0.  , ..., 0.  , 0.03, 0.02, 0.02],\n",
       "         ...,\n",
       "         [0.46, 0.22, 0.01, 0.  , ..., 0.  , 0.06, 0.08, 0.13],\n",
       "         [0.49, 0.22, 0.01, 0.  , ..., 0.  , 0.03, 0.04, 0.06],\n",
       "         [0.09, 0.05, 0.01, 0.  , ..., 0.  , 0.01, 0.01, 0.01],\n",
       "         [0.  , 0.  , 0.  , 0.  , ..., 0.  , 0.  , 0.  , 0.  ]],\n",
       "\n",
       "        [[0.  , 0.  , 0.  , 0.  , ..., 0.  , 0.  , 0.  , 0.  ],\n",
       "         [0.  , 0.  , 0.  , 0.  , ..., 0.  , 0.  , 0.  , 0.  ],\n",
       "         [0.  , 0.  , 0.  , 0.  , ..., 0.  , 0.  , 0.  , 0.  ],\n",
       "         [0.  , 0.  , 0.  , 0.  , ..., 0.  , 0.02, 0.02, 0.02],\n",
       "         ...,\n",
       "         [0.32, 0.16, 0.01, 0.  , ..., 0.  , 0.11, 0.15, 0.22],\n",
       "         [0.35, 0.18, 0.01, 0.  , ..., 0.  , 0.07, 0.11, 0.16],\n",
       "         [0.13, 0.07, 0.01, 0.  , ..., 0.  , 0.03, 0.04, 0.05],\n",
       "         [0.  , 0.  , 0.  , 0.  , ..., 0.  , 0.  , 0.  , 0.  ]],\n",
       "\n",
       "        [[0.  , 0.  , 0.  , 0.  , ..., 0.  , 0.  , 0.  , 0.  ],\n",
       "         [0.  , 0.  , 0.  , 0.  , ..., 0.  , 0.  , 0.  , 0.  ],\n",
       "         [0.  , 0.  , 0.  , 0.  , ..., 0.  , 0.  , 0.  , 0.  ],\n",
       "         [0.  , 0.  , 0.  , 0.  , ..., 0.01, 0.03, 0.04, 0.03],\n",
       "         ...,\n",
       "         [0.3 , 0.17, 0.02, 0.  , ..., 0.  , 0.07, 0.14, 0.2 ],\n",
       "         [0.33, 0.16, 0.02, 0.  , ..., 0.  , 0.03, 0.05, 0.07],\n",
       "         [0.07, 0.03, 0.01, 0.  , ..., 0.  , 0.01, 0.01, 0.01],\n",
       "         [0.  , 0.  , 0.  , 0.  , ..., 0.  , 0.  , 0.  , 0.  ]]],\n",
       "\n",
       "\n",
       "       [[[0.  , 0.  , 0.  , 0.  , ..., 0.  , 0.  , 0.  , 0.  ],\n",
       "         [0.  , 0.  , 0.  , 0.  , ..., 0.  , 0.  , 0.  , 0.  ],\n",
       "         [0.  , 0.  , 0.  , 0.  , ..., 0.01, 0.01, 0.  , 0.  ],\n",
       "         [0.  , 0.  , 0.  , 0.  , ..., 0.02, 0.06, 0.05, 0.05],\n",
       "         ...,\n",
       "         [0.18, 0.1 , 0.01, 0.  , ..., 0.01, 0.2 , 0.22, 0.28],\n",
       "         [0.2 , 0.12, 0.02, 0.  , ..., 0.01, 0.13, 0.16, 0.22],\n",
       "         [0.06, 0.04, 0.01, 0.  , ..., 0.01, 0.05, 0.06, 0.06],\n",
       "         [0.  , 0.  , 0.  , 0.  , ..., 0.  , 0.01, 0.01, 0.  ]],\n",
       "\n",
       "        [[0.  , 0.  , 0.  , 0.  , ..., 0.  , 0.  , 0.  , 0.  ],\n",
       "         [0.  , 0.  , 0.  , 0.  , ..., 0.  , 0.  , 0.  , 0.  ],\n",
       "         [0.  , 0.  , 0.  , 0.  , ..., 0.01, 0.01, 0.  , 0.  ],\n",
       "         [0.  , 0.  , 0.  , 0.  , ..., 0.01, 0.02, 0.02, 0.03],\n",
       "         ...,\n",
       "         [0.18, 0.1 , 0.01, 0.  , ..., 0.  , 0.16, 0.22, 0.28],\n",
       "         [0.17, 0.11, 0.01, 0.  , ..., 0.01, 0.09, 0.16, 0.24],\n",
       "         [0.04, 0.02, 0.01, 0.  , ..., 0.01, 0.03, 0.04, 0.05],\n",
       "         [0.  , 0.  , 0.  , 0.  , ..., 0.  , 0.  , 0.  , 0.  ]],\n",
       "\n",
       "        [[0.  , 0.  , 0.  , 0.  , ..., 0.  , 0.  , 0.  , 0.  ],\n",
       "         [0.  , 0.  , 0.  , 0.  , ..., 0.  , 0.  , 0.  , 0.  ],\n",
       "         [0.  , 0.  , 0.  , 0.  , ..., 0.01, 0.01, 0.01, 0.  ],\n",
       "         [0.  , 0.  , 0.  , 0.  , ..., 0.02, 0.04, 0.06, 0.05],\n",
       "         ...,\n",
       "         [0.12, 0.08, 0.01, 0.  , ..., 0.01, 0.16, 0.26, 0.31],\n",
       "         [0.15, 0.09, 0.02, 0.  , ..., 0.01, 0.09, 0.15, 0.2 ],\n",
       "         [0.05, 0.03, 0.01, 0.  , ..., 0.01, 0.03, 0.04, 0.05],\n",
       "         [0.01, 0.  , 0.  , 0.  , ..., 0.  , 0.  , 0.  , 0.  ]]],\n",
       "\n",
       "\n",
       "       [[[0.  , 0.  , 0.  , 0.  , ..., 0.  , 0.  , 0.  , 0.  ],\n",
       "         [0.  , 0.  , 0.  , 0.  , ..., 0.  , 0.  , 0.  , 0.  ],\n",
       "         [0.  , 0.  , 0.  , 0.  , ..., 0.  , 0.  , 0.  , 0.  ],\n",
       "         [0.  , 0.  , 0.  , 0.  , ..., 0.  , 0.  , 0.  , 0.  ],\n",
       "         ...,\n",
       "         [0.  , 0.  , 0.  , 0.  , ..., 0.  , 0.31, 0.28, 0.41],\n",
       "         [0.  , 0.  , 0.  , 0.  , ..., 0.  , 0.3 , 0.28, 0.41],\n",
       "         [0.  , 0.  , 0.  , 0.  , ..., 0.02, 0.24, 0.25, 0.36],\n",
       "         [0.  , 0.  , 0.  , 0.  , ..., 0.01, 0.02, 0.02, 0.03]],\n",
       "\n",
       "        [[0.  , 0.  , 0.  , 0.  , ..., 0.  , 0.  , 0.  , 0.  ],\n",
       "         [0.  , 0.  , 0.  , 0.  , ..., 0.  , 0.  , 0.  , 0.  ],\n",
       "         [0.  , 0.  , 0.  , 0.  , ..., 0.  , 0.  , 0.  , 0.  ],\n",
       "         [0.  , 0.  , 0.  , 0.  , ..., 0.  , 0.  , 0.  , 0.  ],\n",
       "         ...,\n",
       "         [0.  , 0.  , 0.  , 0.  , ..., 0.  , 0.32, 0.3 , 0.38],\n",
       "         [0.  , 0.  , 0.  , 0.  , ..., 0.  , 0.3 , 0.31, 0.39],\n",
       "         [0.  , 0.  , 0.  , 0.  , ..., 0.02, 0.28, 0.28, 0.35],\n",
       "         [0.  , 0.  , 0.  , 0.  , ..., 0.02, 0.04, 0.04, 0.05]],\n",
       "\n",
       "        [[0.  , 0.  , 0.  , 0.  , ..., 0.  , 0.  , 0.  , 0.  ],\n",
       "         [0.  , 0.  , 0.  , 0.  , ..., 0.  , 0.  , 0.  , 0.  ],\n",
       "         [0.  , 0.  , 0.  , 0.  , ..., 0.  , 0.  , 0.  , 0.  ],\n",
       "         [0.  , 0.  , 0.  , 0.  , ..., 0.  , 0.  , 0.  , 0.  ],\n",
       "         ...,\n",
       "         [0.  , 0.  , 0.  , 0.  , ..., 0.  , 0.17, 0.34, 0.49],\n",
       "         [0.  , 0.  , 0.  , 0.  , ..., 0.  , 0.19, 0.36, 0.44],\n",
       "         [0.  , 0.  , 0.  , 0.  , ..., 0.01, 0.14, 0.26, 0.35],\n",
       "         [0.  , 0.  , 0.  , 0.  , ..., 0.01, 0.01, 0.02, 0.03]]],\n",
       "\n",
       "\n",
       "       [[[0.  , 0.  , 0.  , 0.  , ..., 0.  , 0.  , 0.  , 0.  ],\n",
       "         [0.  , 0.  , 0.  , 0.  , ..., 0.  , 0.  , 0.  , 0.  ],\n",
       "         [0.  , 0.  , 0.  , 0.  , ..., 0.  , 0.  , 0.  , 0.  ],\n",
       "         [0.  , 0.  , 0.  , 0.  , ..., 0.  , 0.  , 0.  , 0.  ],\n",
       "         ...,\n",
       "         [0.54, 0.25, 0.01, 0.  , ..., 0.  , 0.02, 0.02, 0.03],\n",
       "         [0.27, 0.13, 0.01, 0.  , ..., 0.  , 0.03, 0.03, 0.04],\n",
       "         [0.02, 0.01, 0.  , 0.  , ..., 0.  , 0.01, 0.01, 0.01],\n",
       "         [0.  , 0.  , 0.  , 0.  , ..., 0.  , 0.  , 0.  , 0.  ]],\n",
       "\n",
       "        [[0.  , 0.  , 0.  , 0.  , ..., 0.  , 0.  , 0.  , 0.  ],\n",
       "         [0.  , 0.  , 0.  , 0.  , ..., 0.  , 0.  , 0.  , 0.  ],\n",
       "         [0.  , 0.  , 0.  , 0.  , ..., 0.  , 0.  , 0.  , 0.  ],\n",
       "         [0.  , 0.  , 0.  , 0.  , ..., 0.  , 0.  , 0.  , 0.  ],\n",
       "         ...,\n",
       "         [0.58, 0.29, 0.01, 0.  , ..., 0.  , 0.02, 0.03, 0.04],\n",
       "         [0.44, 0.24, 0.02, 0.  , ..., 0.  , 0.03, 0.04, 0.05],\n",
       "         [0.1 , 0.06, 0.01, 0.  , ..., 0.01, 0.03, 0.03, 0.03],\n",
       "         [0.  , 0.  , 0.  , 0.  , ..., 0.  , 0.  , 0.  , 0.  ]],\n",
       "\n",
       "        [[0.  , 0.  , 0.  , 0.  , ..., 0.  , 0.  , 0.  , 0.  ],\n",
       "         [0.  , 0.  , 0.  , 0.  , ..., 0.  , 0.  , 0.  , 0.  ],\n",
       "         [0.  , 0.  , 0.  , 0.  , ..., 0.  , 0.  , 0.  , 0.  ],\n",
       "         [0.  , 0.  , 0.  , 0.  , ..., 0.  , 0.  , 0.  , 0.  ],\n",
       "         ...,\n",
       "         [0.29, 0.19, 0.03, 0.  , ..., 0.  , 0.03, 0.05, 0.06],\n",
       "         [0.12, 0.07, 0.01, 0.  , ..., 0.  , 0.02, 0.03, 0.04],\n",
       "         [0.01, 0.01, 0.  , 0.  , ..., 0.  , 0.01, 0.01, 0.01],\n",
       "         [0.  , 0.  , 0.  , 0.  , ..., 0.  , 0.  , 0.  , 0.  ]]]], dtype=float32)"
      ]
     },
     "execution_count": 132,
     "metadata": {},
     "output_type": "execute_result"
    }
   ],
   "source": [
    "np.round(preds,2)"
   ]
  },
  {
   "cell_type": "code",
   "execution_count": 134,
   "metadata": {},
   "outputs": [],
   "source": [
    "df = pd.DataFrame(data=preds, columns=data.classes)\n",
    "df['fname'] = [o.name for o in test_fnames[:len(preds)]]\n",
    "df['predicted_class'] = pred_classes"
   ]
  },
  {
   "cell_type": "code",
   "execution_count": 135,
   "metadata": {},
   "outputs": [
    {
     "data": {
      "text/html": [
       "<div>\n",
       "<style scoped>\n",
       "    .dataframe tbody tr th:only-of-type {\n",
       "        vertical-align: middle;\n",
       "    }\n",
       "\n",
       "    .dataframe tbody tr th {\n",
       "        vertical-align: top;\n",
       "    }\n",
       "\n",
       "    .dataframe thead th {\n",
       "        text-align: right;\n",
       "    }\n",
       "</style>\n",
       "<table border=\"1\" class=\"dataframe\">\n",
       "  <thead>\n",
       "    <tr style=\"text-align: right;\">\n",
       "      <th></th>\n",
       "      <th>nadir</th>\n",
       "      <th>offnadir</th>\n",
       "      <th>faroffnadir</th>\n",
       "      <th>fname</th>\n",
       "      <th>predicted_class</th>\n",
       "    </tr>\n",
       "  </thead>\n",
       "  <tbody>\n",
       "    <tr>\n",
       "      <th>0</th>\n",
       "      <td>[[2.984445e-13, 3.0238437e-13, 4.7392147e-13, ...</td>\n",
       "      <td>[[1.4803139e-12, 1.4522691e-12, 2.6047697e-12,...</td>\n",
       "      <td>[[7.9222844e-11, 6.932857e-11, 7.8034634e-11, ...</td>\n",
       "      <td>Pan-Sharpen_Atlanta_nadir34_catid_103001000369...</td>\n",
       "      <td>Image (3, 450, 450)</td>\n",
       "    </tr>\n",
       "    <tr>\n",
       "      <th>1</th>\n",
       "      <td>[[1.3344923e-09, 1.001949e-09, 8.467827e-09, 6...</td>\n",
       "      <td>[[1.03112345e-08, 8.092864e-09, 6.369903e-08, ...</td>\n",
       "      <td>[[3.4663007e-08, 1.9806405e-08, 1.6889382e-07,...</td>\n",
       "      <td>Pan-Sharpen_Atlanta_nadir36_catid_103001000389...</td>\n",
       "      <td>Image (3, 450, 450)</td>\n",
       "    </tr>\n",
       "    <tr>\n",
       "      <th>2</th>\n",
       "      <td>[[7.869323e-14, 7.289688e-14, 2.884057e-13, 9....</td>\n",
       "      <td>[[6.1106594e-13, 5.322863e-13, 1.978721e-12, 5...</td>\n",
       "      <td>[[1.9286461e-11, 1.3529689e-11, 4.8208222e-11,...</td>\n",
       "      <td>Pan-Sharpen_Atlanta_nadir39_catid_103001000383...</td>\n",
       "      <td>Image (3, 450, 450)</td>\n",
       "    </tr>\n",
       "    <tr>\n",
       "      <th>3</th>\n",
       "      <td>[[1.0093156e-09, 8.955012e-10, 7.539528e-09, 5...</td>\n",
       "      <td>[[8.194624e-09, 7.3698767e-09, 6.7959625e-08, ...</td>\n",
       "      <td>[[2.9265943e-08, 2.2078517e-08, 1.5322182e-07,...</td>\n",
       "      <td>Pan-Sharpen_Atlanta_nadir42_catid_10300100035D...</td>\n",
       "      <td>Image (3, 450, 450)</td>\n",
       "    </tr>\n",
       "    <tr>\n",
       "      <th>4</th>\n",
       "      <td>[[4.3397805e-16, 4.405466e-16, 1.0535842e-15, ...</td>\n",
       "      <td>[[7.363293e-13, 7.007941e-13, 1.6092175e-12, 3...</td>\n",
       "      <td>[[4.1130673e-13, 3.791709e-13, 8.569688e-13, 1...</td>\n",
       "      <td>Pan-Sharpen_Atlanta_nadir25_catid_103001000307...</td>\n",
       "      <td>Image (3, 450, 450)</td>\n",
       "    </tr>\n",
       "  </tbody>\n",
       "</table>\n",
       "</div>"
      ],
      "text/plain": [
       "                                               nadir  \\\n",
       "0  [[2.984445e-13, 3.0238437e-13, 4.7392147e-13, ...   \n",
       "1  [[1.3344923e-09, 1.001949e-09, 8.467827e-09, 6...   \n",
       "2  [[7.869323e-14, 7.289688e-14, 2.884057e-13, 9....   \n",
       "3  [[1.0093156e-09, 8.955012e-10, 7.539528e-09, 5...   \n",
       "4  [[4.3397805e-16, 4.405466e-16, 1.0535842e-15, ...   \n",
       "\n",
       "                                            offnadir  \\\n",
       "0  [[1.4803139e-12, 1.4522691e-12, 2.6047697e-12,...   \n",
       "1  [[1.03112345e-08, 8.092864e-09, 6.369903e-08, ...   \n",
       "2  [[6.1106594e-13, 5.322863e-13, 1.978721e-12, 5...   \n",
       "3  [[8.194624e-09, 7.3698767e-09, 6.7959625e-08, ...   \n",
       "4  [[7.363293e-13, 7.007941e-13, 1.6092175e-12, 3...   \n",
       "\n",
       "                                         faroffnadir  \\\n",
       "0  [[7.9222844e-11, 6.932857e-11, 7.8034634e-11, ...   \n",
       "1  [[3.4663007e-08, 1.9806405e-08, 1.6889382e-07,...   \n",
       "2  [[1.9286461e-11, 1.3529689e-11, 4.8208222e-11,...   \n",
       "3  [[2.9265943e-08, 2.2078517e-08, 1.5322182e-07,...   \n",
       "4  [[4.1130673e-13, 3.791709e-13, 8.569688e-13, 1...   \n",
       "\n",
       "                                               fname      predicted_class  \n",
       "0  Pan-Sharpen_Atlanta_nadir34_catid_103001000369...  Image (3, 450, 450)  \n",
       "1  Pan-Sharpen_Atlanta_nadir36_catid_103001000389...  Image (3, 450, 450)  \n",
       "2  Pan-Sharpen_Atlanta_nadir39_catid_103001000383...  Image (3, 450, 450)  \n",
       "3  Pan-Sharpen_Atlanta_nadir42_catid_10300100035D...  Image (3, 450, 450)  \n",
       "4  Pan-Sharpen_Atlanta_nadir25_catid_103001000307...  Image (3, 450, 450)  "
      ]
     },
     "execution_count": 135,
     "metadata": {},
     "output_type": "execute_result"
    }
   ],
   "source": [
    "df.head()"
   ]
  },
  {
   "cell_type": "code",
   "execution_count": null,
   "metadata": {},
   "outputs": [],
   "source": [
    "for i in range(10):\n",
    "    img = open_image(path_test/df.iloc[i]['fname'])\n",
    "    print(df.iloc[i]['predicted_class'], df[df.iloc[i]['predicted_class']].iloc[i])\n",
    "    img.show()\n",
    "    plt.show()"
   ]
  },
  {
   "cell_type": "code",
   "execution_count": 117,
   "metadata": {},
   "outputs": [],
   "source": [
    "# see stpacenetutilities.labeltools.corelabeltools createGeoJSONFromRaster"
   ]
  },
  {
   "cell_type": "code",
   "execution_count": null,
   "metadata": {},
   "outputs": [],
   "source": []
  },
  {
   "cell_type": "code",
   "execution_count": null,
   "metadata": {},
   "outputs": [],
   "source": []
  },
  {
   "cell_type": "code",
   "execution_count": null,
   "metadata": {},
   "outputs": [],
   "source": []
  },
  {
   "cell_type": "code",
   "execution_count": null,
   "metadata": {},
   "outputs": [],
   "source": []
  },
  {
   "cell_type": "code",
   "execution_count": null,
   "metadata": {},
   "outputs": [],
   "source": []
  }
 ],
 "metadata": {
  "kernelspec": {
   "display_name": "Python 3",
   "language": "python",
   "name": "python3"
  },
  "language_info": {
   "codemirror_mode": {
    "name": "ipython",
    "version": 3
   },
   "file_extension": ".py",
   "mimetype": "text/x-python",
   "name": "python",
   "nbconvert_exporter": "python",
   "pygments_lexer": "ipython3",
   "version": "3.7.0"
  }
 },
 "nbformat": 4,
 "nbformat_minor": 2
}
